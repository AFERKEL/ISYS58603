{
 "cells": [
  {
   "cell_type": "markdown",
   "metadata": {},
   "source": [
    "# Individual Assignment 3 - Querying data\n",
    "In this assignment, students are going to focus on getting data out of a database, using a few different methods\n",
    "\n",
    "## Goal\n",
    "The goal of this assignment is to understand how to get data out of a database using SQL queries directly, pandas and also directly into our objects using SQLAlchemy \n",
    "\n",
    "## Deliverables\n",
    "\n",
    "## Background\n",
    "\n",
    "## Instructions"
   ]
  },
  {
   "cell_type": "markdown",
   "metadata": {},
   "source": [
    "# Part 1 - Querying data using SQL commands\n",
    "Since you already know quite a bit about querying a SQL database, this is the easiest way to get data from a database.\n",
    "\n",
    "The basic steps are \n",
    "1. *Connect to the database*. This may require some setup work depending on database type (SQLite, MS SQL, Teradata, etc).  Often times an intermediate piece of software called a database driver is required. This piece of software knows how to make a connection to the database server and send your SQL commands to the database and return the results to you. For SQLite, the driver is built-into Python and so there is no extra software to setup other than the standard Python libraries.\n",
    "2. *Create a cursor* that can be used to send commands to the server. A database cursor is a pointer that moves around the database and points to the data you want to retrieve from the database.\n",
    "3. *Execute a command*. Once the setup has been completed, we can finally execute a command. A command is the SQL statement you want to be sent to the database.  If the command returns data (as in a SELECT statement), then the cursor will point to the data that is to be returned (but keep in mind, only 1 row of data at a time).\n",
    "\n",
    "The next cell shows the basics of creating a connection, establishing a cursor and executing a command to the database."
   ]
  },
  {
   "cell_type": "code",
   "execution_count": 19,
   "metadata": {},
   "outputs": [
    {
     "name": "stdout",
     "output_type": "stream",
     "text": [
      "[('sales',)]\n",
      "['sale_id', 'Configuration', 'Customer Postcode', 'Store Postcode', 'Retail Price', 'Screen Size (Inches)', 'Battery Life (Hours)', 'RAM (GB)', 'Processor Speeds (GHz)', 'Integrated Wireless?', 'HD Size (GB)', 'Bundled Applications?', 'customer X', 'customer Y', 'store X', 'store Y', 'sale_date']\n",
      "(0, 163, 'EC4V 5BH', 'SE1 2BN', 455.0, 15, 5, 1, 2.0, 'Yes', 80, 'Yes', 532041, 180995, 534057.0, 179682.0, '2008-01-01 00:01:00')\n",
      "(1, 320, 'SW4 0JL', 'SW12 9HD', 545.0, 15, 6, 1, 2.0, 'No', 300, 'No', 529240, 175537, 528739.0, 173080.0, '2008-01-01 00:02:00')\n",
      "(2, 23, 'EC3V 1LR', 'E2 0RY', 515.0, 15, 4, 1, 2.0, 'Yes', 300, 'Yes', 533095, 181047, 535652.0, 182961.0, '2008-01-01 00:04:00')\n",
      "(3, 169, 'SW1P 3AU', 'SE1 2BN', 395.0, 15, 5, 1, 2.0, 'No', 40, 'Yes', 529902, 179641, 534057.0, 179682.0, '2008-01-01 00:04:00')\n",
      "(4, 365, 'EC4V 4EG', 'SW1V 4QQ', 585.0, 15, 6, 2, 2.0, 'No', 120, 'Yes', 531684, 180948, 528924.0, 178440.0, '2008-01-01 00:06:00')\n",
      "(5, 309, 'W1B 5PX', 'SW1V 4QQ', 555.0, 15, 6, 1, 2.0, 'Yes', 120, 'Yes', 529207, 180969, 528924.0, 178440.0, '2008-01-01 00:12:00')\n",
      "(6, 75, 'SE25 4LX', 'SE8 3JD', 465.0, 15, 4, 2, 2.0, 'No', 80, 'Yes', 534575, 168236, 537175.0, 177885.0, '2008-01-01 00:14:00')\n",
      "(7, 346, 'N7 6AR', 'E2 0RY', 450.0, 15, 6, 2, 1.5, 'No', 40, 'No', 530461, 186176, 535652.0, 182961.0, '2008-01-01 00:17:00')\n",
      "(8, 70, 'W3 7JT', 'SW18 1NN', 455.0, 15, 4, 2, 2.0, 'Yes', 120, 'No', 520898, 180071, 525155.0, 175180.0, '2008-01-01 00:24:00')\n",
      "(9, 351, 'SW8 1RB', 'SW1V 4QQ', 620.0, 15, 6, 2, 1.5, 'No', 300, 'Yes', 530298, 177435, 528924.0, 178440.0, '2008-01-01 00:56:00')\n"
     ]
    }
   ],
   "source": [
    "import sqlite3\n",
    "\n",
    "# Set the name of the database file to be used for this exercise\n",
    "db_file = 'laptopsales.db'\n",
    "\n",
    "# Make a connection to the database\n",
    "cnn = sqlite3.connect(db_file)\n",
    "\n",
    "# Next make a cursor that can be used to run a query on the new connection\n",
    "cur = cnn.cursor()\n",
    "\n",
    "# See what tables are available in the database\n",
    "tables = cur.execute(\"SELECT name FROM sqlite_master WHERE type='table';\")\n",
    "print(tables.fetchall())\n",
    "\n",
    "\n",
    "# get the first 10 records from the sales table\n",
    "result = cur.execute('SELECT * from sales LIMIT 10')\n",
    "\n",
    "# Get the names of the columns from a sqlite database\n",
    "names = list(map(lambda x: x[0], cur.description))\n",
    "print(names)\n",
    "\n",
    "# Print the first 10 records\n",
    "for row in result:\n",
    "    print(row)  \n",
    "\n",
    "# It's good practice to ensure that we close our connection to the database when we are done using it\n",
    "cnn.close()\n"
   ]
  },
  {
   "cell_type": "markdown",
   "metadata": {},
   "source": [
    "Notice that each row of the query returns the result in a tuple.  A tuple similar to a list - it's a collection of values.  If we want to access a particular item in the results - we have to do so with an index.  Let's start by getting some data then we'll "
   ]
  },
  {
   "cell_type": "code",
   "execution_count": 25,
   "metadata": {},
   "outputs": [
    {
     "name": "stdout",
     "output_type": "stream",
     "text": [
      "[(0, 163, 'EC4V 5BH', 'SE1 2BN', 455.0, 15, 5, 1, 2.0, 'Yes', 80, 'Yes', 532041, 180995, 534057.0, 179682.0, '2008-01-01 00:01:00'), (1, 320, 'SW4 0JL', 'SW12 9HD', 545.0, 15, 6, 1, 2.0, 'No', 300, 'No', 529240, 175537, 528739.0, 173080.0, '2008-01-01 00:02:00'), (2, 23, 'EC3V 1LR', 'E2 0RY', 515.0, 15, 4, 1, 2.0, 'Yes', 300, 'Yes', 533095, 181047, 535652.0, 182961.0, '2008-01-01 00:04:00'), (3, 169, 'SW1P 3AU', 'SE1 2BN', 395.0, 15, 5, 1, 2.0, 'No', 40, 'Yes', 529902, 179641, 534057.0, 179682.0, '2008-01-01 00:04:00'), (4, 365, 'EC4V 4EG', 'SW1V 4QQ', 585.0, 15, 6, 2, 2.0, 'No', 120, 'Yes', 531684, 180948, 528924.0, 178440.0, '2008-01-01 00:06:00'), (5, 309, 'W1B 5PX', 'SW1V 4QQ', 555.0, 15, 6, 1, 2.0, 'Yes', 120, 'Yes', 529207, 180969, 528924.0, 178440.0, '2008-01-01 00:12:00'), (6, 75, 'SE25 4LX', 'SE8 3JD', 465.0, 15, 4, 2, 2.0, 'No', 80, 'Yes', 534575, 168236, 537175.0, 177885.0, '2008-01-01 00:14:00'), (7, 346, 'N7 6AR', 'E2 0RY', 450.0, 15, 6, 2, 1.5, 'No', 40, 'No', 530461, 186176, 535652.0, 182961.0, '2008-01-01 00:17:00'), (8, 70, 'W3 7JT', 'SW18 1NN', 455.0, 15, 4, 2, 2.0, 'Yes', 120, 'No', 520898, 180071, 525155.0, 175180.0, '2008-01-01 00:24:00'), (9, 351, 'SW8 1RB', 'SW1V 4QQ', 620.0, 15, 6, 2, 1.5, 'No', 300, 'Yes', 530298, 177435, 528924.0, 178440.0, '2008-01-01 00:56:00')]\n",
      "[(0, 163, 'EC4V 5BH', 'SE1 2BN', 455.0, 15, 5, 1, 2.0, 'Yes', 80, 'Yes', 532041, 180995, 534057.0, 179682.0, '2008-01-01 00:01:00'), (1, 320, 'SW4 0JL', 'SW12 9HD', 545.0, 15, 6, 1, 2.0, 'No', 300, 'No', 529240, 175537, 528739.0, 173080.0, '2008-01-01 00:02:00'), (2, 23, 'EC3V 1LR', 'E2 0RY', 515.0, 15, 4, 1, 2.0, 'Yes', 300, 'Yes', 533095, 181047, 535652.0, 182961.0, '2008-01-01 00:04:00'), (3, 169, 'SW1P 3AU', 'SE1 2BN', 395.0, 15, 5, 1, 2.0, 'No', 40, 'Yes', 529902, 179641, 534057.0, 179682.0, '2008-01-01 00:04:00'), (4, 365, 'EC4V 4EG', 'SW1V 4QQ', 585.0, 15, 6, 2, 2.0, 'No', 120, 'Yes', 531684, 180948, 528924.0, 178440.0, '2008-01-01 00:06:00')]\n"
     ]
    }
   ],
   "source": [
    "# We have to reopen the database and create a new cursor to run queries on it\n",
    "cnn = sqlite3.connect(db_file)\n",
    "cur = cnn.cursor()\n",
    "\n",
    "# We can also use the fetchall() method to get all the results at once\n",
    "results = cur.execute('SELECT * from sales LIMIT 10').fetchall()\n",
    "print(results)\n",
    "    \n",
    "# We can also use the fetchmany() method to get a specific number of results\n",
    "results = cur.execute('SELECT * from sales LIMIT 10').fetchmany(5)\n",
    "print(results)"
   ]
  },
  {
   "cell_type": "code",
   "execution_count": 26,
   "metadata": {},
   "outputs": [
    {
     "name": "stdout",
     "output_type": "stream",
     "text": [
      "(0, 163, 'EC4V 5BH', 'SE1 2BN', 455.0, 15, 5, 1, 2.0, 'Yes', 80, 'Yes', 532041, 180995, 534057.0, 179682.0, '2008-01-01 00:01:00')\n",
      "SalesID: 0, Sale Date: 2008-01-01 00:01:00\n"
     ]
    }
   ],
   "source": [
    "# Now lets get just a single result and print out the SalesID, and the Sale Date.\n",
    "results = cur.execute('SELECT * from sales LIMIT 10').fetchone()\n",
    "print(results)\n",
    "# Print the SalesID and Sale Date.  The SalesID is the first column, and the Sale Date is the 17th column\n",
    "print(f'SalesID: {results[0]}, Sale Date: {results[16]}')"
   ]
  },
  {
   "cell_type": "markdown",
   "metadata": {},
   "source": [
    "## Queries\n",
    "Now that we know which columns are available to us we can query the database let's run a few queries.\n",
    "Answer the questions in the following cells.  Ensure that your code and the result are available before saving to PDF.\n",
    "\n",
    "As a reference, here are the column names:\n",
    "```\n",
    "sale_id\n",
    "Configuration\n",
    "Customer Postcode\n",
    "Store Postcode\n",
    "Retail Price\n",
    "Screen Size (Inches)\n",
    "Battery Life (Hours)\n",
    "RAM (GB)\n",
    "Processor Speeds (GHz)\n",
    "Integrated Wireless?\n",
    "HD Size (GB)\n",
    "Bundled Applications?\n",
    "customer X\n",
    "customer Y\n",
    "store X\n",
    "store Y\n",
    "sale_date\n",
    "```"
   ]
  },
  {
   "cell_type": "code",
   "execution_count": null,
   "metadata": {},
   "outputs": [],
   "source": [
    "# The following steps are provided as a reminder of how to execute the query\n",
    "\n",
    "# Open the database connection\n",
    "# Create the cursor for which to execute the query\n",
    "# Execute the query\n",
    "# Print the results\n",
    "#  HINT: Since we are only looking for a single value - fetchone() is a good method to use\n",
    "# Close the connection\n",
    "\n",
    "# Q1: What is the total revenue from sales in the sales table? (the answer should be 144373314.0)"
   ]
  },
  {
   "cell_type": "code",
   "execution_count": null,
   "metadata": {},
   "outputs": [],
   "source": [
    "# Q2: Sum the sales by Store Postcode include the postcode in the results\n",
    "# HINT: Now we are looking for multiple values - fetchall() is a good method to use"
   ]
  },
  {
   "cell_type": "markdown",
   "metadata": {},
   "source": [
    "## Using the data from the queries\n",
    "In all the examples the data comes back from the query as a tuple.  This means that we are getting all the values in a sort of collection of variables.  We can access the data in tuple just like it were a list.\n",
    "\n",
    "Now, create a class that has a property for each of the columns in the database.\n",
    "Query the database to get the first 20 items in the database, create an object from each one and put it in a list\n",
    "Then loop through the list and print the Sale Id, Configuration and Sale date for all 20 items in list\n"
   ]
  },
  {
   "cell_type": "code",
   "execution_count": null,
   "metadata": {},
   "outputs": [],
   "source": [
    "# Define the laptop sale class\n",
    "# This class will be used to store the results of the query\n",
    "\n",
    "# # Open the database connection\n",
    "# Create the cursor for which to execute the query\n",
    "# Execute the query\n",
    "\n",
    "# Create an empty list to store the results\n",
    "# Loop through the results and create a new LaptopSale object for each row\n",
    "# Add the new LaptopSale object to the list\n",
    "\n",
    "# Close the connection\n",
    "# Loop through the list of objects\n",
    "# Print the object's Sale Id, Configuration and Sale date"
   ]
  },
  {
   "cell_type": "markdown",
   "metadata": {},
   "source": []
  }
 ],
 "metadata": {
  "kernelspec": {
   "display_name": "base",
   "language": "python",
   "name": "python3"
  },
  "language_info": {
   "codemirror_mode": {
    "name": "ipython",
    "version": 3
   },
   "file_extension": ".py",
   "mimetype": "text/x-python",
   "name": "python",
   "nbconvert_exporter": "python",
   "pygments_lexer": "ipython3",
   "version": "3.11.3"
  },
  "orig_nbformat": 4
 },
 "nbformat": 4,
 "nbformat_minor": 2
}
