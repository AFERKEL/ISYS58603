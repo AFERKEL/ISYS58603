{
 "cells": [
  {
   "cell_type": "markdown",
   "metadata": {},
   "source": [
    "# Individual Assignment 3 - Querying data\n",
    "In this assignment, students are going to focus on getting data out of a database, using a few different methods\n",
    "\n",
    "## Goal\n",
    "The goal of this assignment is to understand how to get data out of a database using SQL queries directly, pandas and also directly into our objects using SQLAlchemy \n",
    "\n",
    "## Deliverables\n",
    "\n",
    "## Background\n",
    "\n",
    "## Instructions"
   ]
  },
  {
   "cell_type": "markdown",
   "metadata": {},
   "source": [
    "# Part 1 - Querying data using SQL commands\n",
    "Since you already know quite a bit about querying a SQL database, this is the easiest way to get data from a database.\n",
    "\n",
    "The basic steps are \n",
    "1. *Connect to the database*. This may require some setup work depending on database type (SQLite, MS SQL, Teradata, etc).  Often times an intermediate piece of software called a database driver is required. This piece of software knows how to make a connection to the database server and send your SQL commands to the database and return the results to you. For SQLite, the driver is built-into Python and so there is no extra software to setup other than the standard Python libraries.\n",
    "2. *Create a cursor* that can be used to send commands to the server. A database cursor is a pointer that moves around the database and points to the data you want to retrieve from the database.\n",
    "3. *Execute a command*. Once the setup has been completed, we can finally execute a command. A command is the SQL statement you want to be sent to the database.  If the command returns data (as in a SELECT statement), then the cursor will point to the data that is to be returned (but keep in mind, only 1 row of data at a time).\n",
    "\n",
    "The next cell shows the basics of creating a connection, establishing a cursor and executing a command to the database."
   ]
  },
  {
   "cell_type": "code",
   "execution_count": null,
   "metadata": {},
   "outputs": [],
   "source": [
    "import sqlite3\n",
    "\n",
    "# Set the name of the database file to be used for this exercise\n",
    "db_file = 'laptopsales.db'\n",
    "\n",
    "# Make a connection to the database\n",
    "cnn = sqlite3.connect(db_file)\n",
    "\n",
    "# Next make a cursor that can be used to run a query on the new connection\n",
    "cur = cnn.cursor()\n",
    "\n",
    "# See what tables are available in the database\n",
    "tables = cur.execute(\"SELECT name FROM sqlite_master WHERE type='table';\")\n",
    "print(tables.fetchall())\n",
    "\n",
    "\n",
    "# get the first 10 records from the sales table\n",
    "result = cur.execute('SELECT * from sales LIMIT 10')\n",
    "\n",
    "# Get the names of the columns from a sqlite database\n",
    "names = list(map(lambda x: x[0], cur.description))\n",
    "print(names)\n",
    "\n",
    "# Print the first 10 records\n",
    "for row in result:\n",
    "    print(row)  \n",
    "\n",
    "# It's good practice to ensure that we close our connection to the database when we are done using it\n",
    "cnn.close()\n"
   ]
  },
  {
   "cell_type": "markdown",
   "metadata": {},
   "source": [
    "Notice that each row of the query returns the result in a tuple.  A tuple similar to a list - it's a collection of values.  If we want to access a particular item in the results - we have to do so with an index.  Let's start by getting some data then we'll "
   ]
  },
  {
   "cell_type": "code",
   "execution_count": null,
   "metadata": {},
   "outputs": [],
   "source": [
    "# We have to reopen the database and create a new cursor to run queries on it\n",
    "cnn = sqlite3.connect(db_file)\n",
    "cur = cnn.cursor()\n",
    "\n",
    "# We can also use the fetchall() method to get all the results at once\n",
    "results = cur.execute('SELECT * from sales LIMIT 10').fetchall()\n",
    "print(results)\n",
    "    \n",
    "# We can also use the fetchmany() method to get a specific number of results\n",
    "results = cur.execute('SELECT * from sales LIMIT 10').fetchmany(5)\n",
    "print(results)"
   ]
  },
  {
   "cell_type": "code",
   "execution_count": null,
   "metadata": {},
   "outputs": [],
   "source": [
    "# Now lets get just a single result and print out the SalesID, and the Sale Date.\n",
    "results = cur.execute('SELECT * from sales LIMIT 10').fetchone()\n",
    "print(results)\n",
    "# Print the SalesID and Sale Date.  The SalesID is the first column, and the Sale Date is the 17th column\n",
    "print(f'SalesID: {results[0]}, Sale Date: {results[16]}')"
   ]
  },
  {
   "cell_type": "markdown",
   "metadata": {
    "notebookRunGroups": {
     "groupValue": "1"
    }
   },
   "source": [
    "## YOUR TURN - Queries\n",
    "Now that we know which columns are available to us we can query the database let's run a few queries.\n",
    "Answer the questions in the following cells.  Ensure that your code and the result are available before saving to PDF.\n",
    "\n",
    "As a reference, here are the column names:\n",
    "```\n",
    "sale_id\n",
    "Configuration\n",
    "Customer Postcode\n",
    "Store Postcode\n",
    "Retail Price\n",
    "Screen Size (Inches)\n",
    "Battery Life (Hours)\n",
    "RAM (GB)\n",
    "Processor Speeds (GHz)\n",
    "Integrated Wireless?\n",
    "HD Size (GB)\n",
    "Bundled Applications?\n",
    "customer X\n",
    "customer Y\n",
    "store X\n",
    "store Y\n",
    "sale_date\n",
    "```"
   ]
  },
  {
   "cell_type": "code",
   "execution_count": null,
   "metadata": {
    "notebookRunGroups": {
     "groupValue": "1"
    }
   },
   "outputs": [],
   "source": [
    "# The following steps are provided as a reminder of how to execute the query\n",
    "\n",
    "# Open the database connection\n",
    "# Create the cursor for which to execute the query\n",
    "# Execute the query\n",
    "# Print the results\n",
    "#  HINT: Since we are only looking for a single value - fetchone() is a good method to use\n",
    "# Close the connection\n",
    "\n",
    "# Q1: What is the total revenue from sales in the sales table? (the answer should be 144373314.0)"
   ]
  },
  {
   "cell_type": "code",
   "execution_count": null,
   "metadata": {
    "notebookRunGroups": {
     "groupValue": "1"
    }
   },
   "outputs": [],
   "source": [
    "# Q2: Sum the sales by Store Postcode include the postcode in the results\n",
    "# HINT: Now we are looking for multiple values - fetchall() is a good method to use"
   ]
  },
  {
   "cell_type": "markdown",
   "metadata": {
    "notebookRunGroups": {
     "groupValue": "1"
    }
   },
   "source": [
    "### Using the data from the queries\n",
    "In all the examples the data comes back from the query as a tuple.  This means that we are getting all the values in a sort of collection of variables.  We can access the data in tuple just like it were a list.\n",
    "\n",
    "Now, create a class that has a property for each of the columns in the database.\n",
    "Query the database to get the first 20 items in the database, create an object from each one and put it in a list\n",
    "Then loop through the list and print the Sale Id, Configuration and Sale date for all 20 items in list\n"
   ]
  },
  {
   "cell_type": "code",
   "execution_count": null,
   "metadata": {
    "notebookRunGroups": {
     "groupValue": "1"
    }
   },
   "outputs": [],
   "source": [
    "# Define the laptop sale class\n",
    "# This class will be used to store the results of the query\n",
    "\n",
    "# # Open the database connection\n",
    "# Create the cursor for which to execute the query\n",
    "# Execute the query\n",
    "\n",
    "# Create an empty list to store the results\n",
    "# Loop through the results and create a new LaptopSale object for each row\n",
    "# Add the new LaptopSale object to the list\n",
    "\n",
    "# Close the connection\n",
    "\n",
    "# Loop through the list of objects\n",
    "# Print the object's Sale Id, Configuration and Sale date"
   ]
  },
  {
   "cell_type": "markdown",
   "metadata": {},
   "source": [
    "# Part 2 - Using pandas to connect to the database\n",
    "If we are just looking to grab some data from a database and use it for analytics especially, then the [pandas](https://pandas.pydata.org/) library is a great choice.\n",
    "\n",
    "To get data from SQL using `pandas` all we need to do is create the connection and execute the query\n"
   ]
  },
  {
   "cell_type": "code",
   "execution_count": null,
   "metadata": {},
   "outputs": [],
   "source": [
    "# Create connection\n",
    "import sqlite3\n",
    "import pandas as pd\n",
    "\n",
    "# Set the name of the database file to be used for this exercise\n",
    "db_file = 'laptopsales.db'\n",
    "\n",
    "# Make a connection to the database\n",
    "cnn = sqlite3.connect(db_file)\n",
    "\n",
    "data = pd.read_sql_query(\"SELECT * FROM sales LIMIT 10\", cnn)\n",
    "data"
   ]
  },
  {
   "cell_type": "markdown",
   "metadata": {},
   "source": [
    "Now that our data is in a dataframe we can do all the things we know how to do with pandas already - like aggregate, filter, group and slice"
   ]
  },
  {
   "cell_type": "code",
   "execution_count": null,
   "metadata": {},
   "outputs": [],
   "source": [
    "# Calculate the average battery life\n",
    "mean_battery_life = data['Battery Life (Hours)'].mean()\n",
    "print(f'Average Battery Life: {mean_battery_life} hours')\n",
    "\n",
    "# Get all sales where the laptop has integrated wireless\n",
    "wireless_sales = data[data['Integrated Wireless?'] == 'Yes']\n",
    "print(f'wireless sales count: {len(wireless_sales)}')\n",
    "\n",
    "# Price difference between items with and without integrated wireless\n",
    "wireless = data[data['Integrated Wireless?'] == 'Yes']['Retail Price'].mean()\n",
    "no_wireless = data[data['Integrated Wireless?'] == 'No']['Retail Price'].mean()\n",
    "print(f'Price difference between items with and without integrated wireless: {wireless - no_wireless}')\n"
   ]
  },
  {
   "cell_type": "markdown",
   "metadata": {},
   "source": [
    "## YOUR TURN - Using pandas to query data source\n",
    "Now that you have seen how to connect to a database using pandas, we are going to move to a new database with a few more tables.  You can read about the chinook example [here](https://www.sqlitetutorial.net/sqlite-sample-database/).\n",
    "\n",
    "![chinook database](images/sqlite-sample-database-color.jpg)\n",
    "\n",
    "Complete the following queries and show your results"
   ]
  },
  {
   "cell_type": "code",
   "execution_count": null,
   "metadata": {},
   "outputs": [],
   "source": [
    "# Create connection\n",
    "# Write a query that will return the artist name, album title, and genre name into a dataframe\n",
    "# Close the connection\n",
    "# Show the dataframe"
   ]
  },
  {
   "cell_type": "markdown",
   "metadata": {},
   "source": [
    "### Dynamic Query\n",
    "For this next exercise you need to ask the user for a band name and then use this name to get all the albums for that band into a dataframe.\n",
    "\n",
    "***HINTS:***\n",
    "1. Consider building the query with string manipulation\n",
    "2. It might be difficult to get the band name spelled exactly right, so use the SQL operator `LIKE` to help with getting close\n",
    "3. To get user input you will use the `input()` function\n",
    "4. Review [this lesson](https://www.py4analytics.info/book/lessons/250-Database_Connections.html#dynamic-queries) on dynamic queries if you need some additional help"
   ]
  },
  {
   "cell_type": "code",
   "execution_count": null,
   "metadata": {},
   "outputs": [],
   "source": [
    "artist_name = input(\"What band are you interested in?  Put a partial name if you don't know the full name: \")\n",
    "# Your code for the dynamic query goes here"
   ]
  }
 ],
 "metadata": {
  "kernelspec": {
   "display_name": "base",
   "language": "python",
   "name": "python3"
  },
  "language_info": {
   "codemirror_mode": {
    "name": "ipython",
    "version": 3
   },
   "file_extension": ".py",
   "mimetype": "text/x-python",
   "name": "python",
   "nbconvert_exporter": "python",
   "pygments_lexer": "ipython3",
   "version": "3.11.3"
  },
  "orig_nbformat": 4
 },
 "nbformat": 4,
 "nbformat_minor": 2
}
