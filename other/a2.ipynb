{
 "cells": [
  {
   "cell_type": "code",
   "execution_count": null,
   "metadata": {},
   "outputs": [],
   "source": [
    "class Student(Person):\n",
    "    \n",
    "    _current_gpa = 0\n",
    "    _sections = {}\n",
    "    \n",
    "    # Initializer method\n",
    "    def __init__(self, id, first_name, last_name):\n",
    "        super().__init__(id, first_name=first_name, last_name=last_name)\n",
    "        \n",
    "    # Sections are stored in the _section dictionary with the key being the section_id and the value as the section object\n",
    "    def add_section(self, section):\n",
    "        self._sections[section.section_id]=section\n",
    "    \n",
    "    def get_all_sections(self):\n",
    "        return self._sections.values()\n",
    "\n",
    "class Section():\n",
    "    semester_taken = \"\"\n",
    "    class_grade = \"\"\n",
    "    course = None\n",
    "    _section_id = \"\"\n",
    "    \n",
    "    def __init__(self, course,semester_taken, class_grade):\n",
    "        self.course = course\n",
    "        self.semester_taken = semester_taken\n",
    "        self.class_grade = class_grade\n",
    "    \n",
    "    # Section_id is a combination of the course_id and the semester in which it was taken\n",
    "    def get_section_id(self):\n",
    "        return f'{self.course.course_id}_{self.semester_taken}'"
   ]
  }
 ],
 "metadata": {
  "language_info": {
   "name": "python"
  },
  "orig_nbformat": 4
 },
 "nbformat": 4,
 "nbformat_minor": 2
}
