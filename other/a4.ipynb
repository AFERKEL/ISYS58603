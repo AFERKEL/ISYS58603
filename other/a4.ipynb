{
 "cells": [
  {
   "cell_type": "code",
   "execution_count": null,
   "metadata": {},
   "outputs": [],
   "source": [
    "import requests\n",
    "import pprint # import pretty print\n",
    "\n",
    "# Create a variable to hold the end point of the API\n",
    "url = 'https://api.coindesk.com/v1/bpi/currentprice.json'\n",
    "# Using the requests library to make a GET request to the API, and store the response in a variable called response\n",
    "response = requests.get(url)\n",
    "\n",
    "# Get the GBP value from the json_response\n",
    "gbp_value = json_response['bpi']['GBP']['rate_float']\n",
    "# Get the EUR value from the json_response\n",
    "eur_value = json_response['bpi']['EUR']['rate_float']\n",
    "# Get the USD value from the json_response\n",
    "usd_value = json_response['bpi']['USD']['rate_float']\n",
    "\n",
    "print(f\"The exchange rate for bitcoin at {json_response['time']['updated']}:\")\n",
    "print(f\" in GBP is {gbp_value}\")\n",
    "print(f\" in EUR is {eur_value}\")\n",
    "print(f\" in USD is {usd_value}\")"
   ]
  },
  {
   "cell_type": "code",
   "execution_count": null,
   "metadata": {},
   "outputs": [],
   "source": [
    "# Get the response as json (as a dictionary)\n",
    "import requests\n",
    "import pprint # import pretty print\n",
    "\n",
    "# Create a variable to hold the end point of the API\n",
    "url = 'https://production.api.coindesk.com/v2/tb/price/ticker?assets=ETH,XRP,BTC'\n",
    "# Using the requests library to make a GET request to the API, and store the response in a variable called response\n",
    "response = requests.get(url)\n",
    "\n",
    "for currency in ['ETH','XRP','BTC']:\n",
    "    currency_name = response.json()['data'][currency]['name']\n",
    "    currency_price_open = response.json()['data'][currency]['ohlc']['o']\n",
    "    currency_price_close = response.json()['data'][currency]['ohlc']['c']\n",
    "    print(f'The open and close price of {currency_name} is \\n\\tOpen: {currency_price_open:.2f}\\tClose: {currency_price_close:.2f}')"
   ]
  }
 ],
 "metadata": {
  "language_info": {
   "name": "python"
  },
  "orig_nbformat": 4
 },
 "nbformat": 4,
 "nbformat_minor": 2
}
